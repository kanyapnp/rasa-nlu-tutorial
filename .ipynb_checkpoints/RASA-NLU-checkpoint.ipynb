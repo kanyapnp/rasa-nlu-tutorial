{
 "cells": [
  {
   "cell_type": "markdown",
   "metadata": {},
   "source": [
    "# NLU Model"
   ]
  },
  {
   "cell_type": "code",
   "execution_count": 1,
   "metadata": {
    "collapsed": false
   },
   "outputs": [],
   "source": [
    "from rasa_nlu.training_data import load_data\n",
    "from rasa_nlu import config\n",
    "from rasa_nlu.model import Trainer, Metadata, Interpreter"
   ]
  },
  {
   "cell_type": "code",
   "execution_count": 2,
   "metadata": {
    "collapsed": true
   },
   "outputs": [],
   "source": [
    "def train_nlu(data,configuration,model_dir):\n",
    "    training_data = load_data(data)\n",
    "    trainer = Trainer(config.load(configuration))\n",
    "    trainer.train(training_data)\n",
    "    model_directory = trainer.persist(model_dir,fixed_model_name='weathernlu')"
   ]
  },
  {
   "cell_type": "code",
   "execution_count": 3,
   "metadata": {
    "collapsed": true
   },
   "outputs": [],
   "source": [
    "train_nlu_model_switch = False"
   ]
  },
  {
   "cell_type": "code",
   "execution_count": 4,
   "metadata": {
    "collapsed": false
   },
   "outputs": [],
   "source": [
    "if (train_nlu_model_switch):\n",
    "    train_nlu('./data/data.json','config_spacy.json','./models/nlu')"
   ]
  },
  {
   "cell_type": "code",
   "execution_count": 5,
   "metadata": {
    "collapsed": false
   },
   "outputs": [],
   "source": [
    "def run_nlu(query):\n",
    "    interpreter = Interpreter.load('./models/nlu/default/weathernlu')\n",
    "    return interpreter.parse(query)"
   ]
  },
  {
   "cell_type": "code",
   "execution_count": 6,
   "metadata": {
    "collapsed": true
   },
   "outputs": [],
   "source": [
    "query = \"I am planning a holiday to India. I wonder how is the weather out there\""
   ]
  },
  {
   "cell_type": "code",
   "execution_count": 7,
   "metadata": {
    "collapsed": false
   },
   "outputs": [
    {
     "name": "stderr",
     "output_type": "stream",
     "text": [
      "C:\\Users\\Utkarsh Sah\\Anaconda3\\lib\\site-packages\\rasa_nlu\\extractors\\entity_synonyms.py:85: UserWarning: Failed to load synonyms file from './models/nlu/default/weathernlu\\entity_synonyms.json'\n",
      "  \"\".format(entity_synonyms_file))\n"
     ]
    },
    {
     "name": "stdout",
     "output_type": "stream",
     "text": [
      "Intent: inform \n",
      " Entity: india\n"
     ]
    }
   ],
   "source": [
    "parsed_query = run_nlu(query)\n",
    "query_intent = parsed_query['intent']['name']\n",
    "query_entity = parsed_query['entities'][0]['value']\n",
    "print('Intent: {} \\n Entity: {}'.format(query_intent,query_entity))"
   ]
  },
  {
   "cell_type": "code",
   "execution_count": 8,
   "metadata": {
    "collapsed": false
   },
   "outputs": [
    {
     "data": {
      "text/plain": [
       "{'entities': [{'confidence': 0.7114679175622723,\n",
       "   'end': 32,\n",
       "   'entity': 'location',\n",
       "   'extractor': 'ner_crf',\n",
       "   'start': 27,\n",
       "   'value': 'india'}],\n",
       " 'intent': {'confidence': 0.80780585954411999, 'name': 'inform'},\n",
       " 'intent_ranking': [{'confidence': 0.80780585954411999, 'name': 'inform'},\n",
       "  {'confidence': 0.12270394872887903, 'name': 'goodbye'},\n",
       "  {'confidence': 0.069490191727000813, 'name': 'greet'}],\n",
       " 'text': 'I am planning a holiday to India. I wonder how is the weather out there'}"
      ]
     },
     "execution_count": 8,
     "metadata": {},
     "output_type": "execute_result"
    }
   ],
   "source": [
    "parsed_query"
   ]
  },
  {
   "cell_type": "markdown",
   "metadata": {},
   "source": [
    "# Custom Action"
   ]
  },
  {
   "cell_type": "code",
   "execution_count": 9,
   "metadata": {
    "collapsed": true
   },
   "outputs": [],
   "source": [
    "from __future__ import absolute_import\n",
    "from __future__ import division\n",
    "from __future__ import unicode_literals\n",
    "\n",
    "from rasa_core.actions.action import Action\n",
    "from rasa_core.events import SlotSet"
   ]
  },
  {
   "cell_type": "code",
   "execution_count": 18,
   "metadata": {
    "collapsed": true
   },
   "outputs": [],
   "source": [
    "class ActionWeather(Action):\n",
    "    def name(self):\n",
    "        return 'action_weather'\n",
    "    \n",
    "    def run(self, dispatcher, tracker, domain):\n",
    "        from apixu.client import ApixuClient\n",
    "        api_key = '5ed103a862bd442182385105181306'\n",
    "        client = ApixuClient(api_key)\n",
    "        loc = tracker.get_slot('location')\n",
    "        current = client.getCurrentWeather(q=loc)\n",
    "        city = current['location']['name']\n",
    "        condition = current['current']['condition']['text']\n",
    "        response = \"\"\"It is currently {} in {} at the moment.\"\"\".format(condition,city)\n",
    "        dispatcher.utter_message(response)\n",
    "        return [SlotSet('location',loc)]"
   ]
  },
  {
   "cell_type": "markdown",
   "metadata": {},
   "source": [
    "# Training Dialog Management System"
   ]
  },
  {
   "cell_type": "code",
   "execution_count": null,
   "metadata": {
    "collapsed": true
   },
   "outputs": [],
   "source": []
  }
 ],
 "metadata": {
  "kernelspec": {
   "display_name": "Python 3",
   "language": "python",
   "name": "python3"
  },
  "language_info": {
   "codemirror_mode": {
    "name": "ipython",
    "version": 3
   },
   "file_extension": ".py",
   "mimetype": "text/x-python",
   "name": "python",
   "nbconvert_exporter": "python",
   "pygments_lexer": "ipython3",
   "version": "3.6.0"
  }
 },
 "nbformat": 4,
 "nbformat_minor": 2
}
